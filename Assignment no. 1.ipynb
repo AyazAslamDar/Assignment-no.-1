{
 "cells": [
  {
   "cell_type": "code",
   "execution_count": 75,
   "metadata": {},
   "outputs": [
    {
     "name": "stdout",
     "output_type": "stream",
     "text": [
      "Twinkle, twinkle, little star,\n",
      "        How I wonder what you are!\n",
      "              Up above the world so high,\n",
      "              Like a diamond in the sky.\n",
      "Twinkle, twinkle, little star,\n",
      "        How I wonder what you are\n"
     ]
    }
   ],
   "source": [
    "print (\"Twinkle, twinkle, little star,\")\n",
    "print (\"        How I wonder what you are!\")\n",
    "print (\"              Up above the world so high,\")\n",
    "print (\"              Like a diamond in the sky.\")\n",
    "print (\"Twinkle, twinkle, little star,\")\n",
    "print (\"        How I wonder what you are\")"
   ]
  },
  {
   "cell_type": "code",
   "execution_count": 76,
   "metadata": {},
   "outputs": [
    {
     "name": "stdout",
     "output_type": "stream",
     "text": [
      "Version is : 3.7.3 (default, Mar 27 2019, 17:13:21) [MSC v.1915 64 bit (AMD64)]\n"
     ]
    }
   ],
   "source": [
    "import sys\n",
    "print(\"Version is :\",sys.version)"
   ]
  },
  {
   "cell_type": "code",
   "execution_count": 77,
   "metadata": {},
   "outputs": [
    {
     "name": "stdout",
     "output_type": "stream",
     "text": [
      "Today Date 'YYYY-MM-DD' = Dt: 2019-11-03 23:12:50.498996\n"
     ]
    }
   ],
   "source": [
    "import datetime as dt\n",
    "print(\"Today Date 'YYYY-MM-DD' = Dt:\", dt.datetime.now())"
   ]
  },
  {
   "cell_type": "code",
   "execution_count": 78,
   "metadata": {},
   "outputs": [
    {
     "name": "stdout",
     "output_type": "stream",
     "text": [
      "Please Enter Radius Value : 951\n",
      "The Radius Given Value is : 951.0  & Pie already has fix Value of: 3.142857142857143\n",
      "\n",
      "The area calculated as -->: 2842403.1428571427\n"
     ]
    }
   ],
   "source": [
    "PI = 22/7\n",
    "R = float (input (\"Please Enter Radius Value : \"))\n",
    "print (\"The Radius Given Value is :\",R, \" & Pie already has fix Value of:\", PI)\n",
    "C = PI * R ** 2\n",
    "print (\"\\nThe area calculated as -->:\", C)"
   ]
  },
  {
   "cell_type": "code",
   "execution_count": 57,
   "metadata": {},
   "outputs": [
    {
     "name": "stdout",
     "output_type": "stream",
     "text": [
      "Enter Your First Name : Ayaz\n",
      "Enter Your Last Name  : Dar\n",
      "\n",
      "Your Name is         :  Dar Ayaz\n"
     ]
    }
   ],
   "source": [
    "First = (input (\"Enter Your First Name : \"))\n",
    "Last = (input (\"Enter Your Last Name  : \"))\n",
    "print (\"\\nYour Name is         : \", Last, First)\n"
   ]
  },
  {
   "cell_type": "code",
   "execution_count": 56,
   "metadata": {},
   "outputs": [
    {
     "name": "stdout",
     "output_type": "stream",
     "text": [
      "Enter First Numer    -->  6.52\n",
      "Enter 2nd Number     -->  9.6\n",
      "\n",
      "The sum of 6.52 + 9.6  =  16.119999999999997\n"
     ]
    }
   ],
   "source": [
    "a = float (input (\"Enter First Numer    -->  \"))\n",
    "b = float (input (\"Enter 2nd Number     -->  \"))\n",
    "print ( \"\\nThe sum of\",a,\"+\",b,\" = \",a+b)"
   ]
  },
  {
   "cell_type": "code",
   "execution_count": null,
   "metadata": {},
   "outputs": [],
   "source": []
  },
  {
   "cell_type": "code",
   "execution_count": null,
   "metadata": {},
   "outputs": [],
   "source": []
  },
  {
   "cell_type": "code",
   "execution_count": null,
   "metadata": {},
   "outputs": [],
   "source": []
  }
 ],
 "metadata": {
  "kernelspec": {
   "display_name": "Python 3",
   "language": "python",
   "name": "python3"
  },
  "language_info": {
   "codemirror_mode": {
    "name": "ipython",
    "version": 3
   },
   "file_extension": ".py",
   "mimetype": "text/x-python",
   "name": "python",
   "nbconvert_exporter": "python",
   "pygments_lexer": "ipython3",
   "version": "3.7.3"
  }
 },
 "nbformat": 4,
 "nbformat_minor": 2
}
