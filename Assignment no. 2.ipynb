{
 "cells": [
  {
   "cell_type": "markdown",
   "metadata": {},
   "source": [
    "# Write a program which takes 5 inputs from user for different subject’s marks, total it and generate mark sheet using grades"
   ]
  },
  {
   "cell_type": "code",
   "execution_count": 1,
   "metadata": {},
   "outputs": [
    {
     "name": "stdout",
     "output_type": "stream",
     "text": [
      "entre 1st subject marks=  34\n",
      "entre 2nd subject marks=  53\n",
      "entre 3rd subject marks=  54\n",
      "entre 4th subject marks=  56\n",
      "entre 5th subject marks=  35\n",
      "C grade\n"
     ]
    }
   ],
   "source": [
    "m1 = int(input(\"entre 1st subject marks=  \"))\n",
    "m2 = int(input(\"entre 2nd subject marks=  \"))\n",
    "m3 = int(input(\"entre 3rd subject marks=  \"))\n",
    "m4 = int(input(\"entre 4th subject marks=  \"))\n",
    "m5 = int(input(\"entre 5th subject marks=  \"))\n",
    "\n",
    "marks = m1 + m2 + m3 + m4 + m5\n",
    "\n",
    "if marks >= 0 and marks <=500:\n",
    "    \n",
    "    if marks >=400 and marks <= 500:\n",
    "        print (\"A grade\")\n",
    "    elif marks >= 300 and marks <=399:\n",
    "        print (\"B grade\")\n",
    "    elif marks >= 200 and marks <=299:\n",
    "        print (\"C grade\")\n",
    "    elif marks >= 100 and marks <=199:\n",
    "        print (\"D grade\")\n",
    "    else:\n",
    "        print(\"fail\")\n",
    "    \n",
    "else:\n",
    "    print(\"invalid marks\")"
   ]
  },
  {
   "cell_type": "markdown",
   "metadata": {},
   "source": [
    "# Write a program which take input from user and identify that the given number is even or odd?"
   ]
  },
  {
   "cell_type": "code",
   "execution_count": 2,
   "metadata": {},
   "outputs": [
    {
     "name": "stdout",
     "output_type": "stream",
     "text": [
      "input a number 55\n",
      "the number is odd\n"
     ]
    }
   ],
   "source": [
    "x = int(input(\"input a number \"))\n",
    "\n",
    "if x % 2 == 0:\n",
    "        print(\"the number is even\")\n",
    "else:\n",
    "        print(\"the number is odd\")"
   ]
  },
  {
   "cell_type": "markdown",
   "metadata": {},
   "source": [
    "# Write a program which print the length of the list?"
   ]
  },
  {
   "cell_type": "code",
   "execution_count": 5,
   "metadata": {},
   "outputs": [
    {
     "name": "stdout",
     "output_type": "stream",
     "text": [
      "The lenght of the list is 12\n"
     ]
    }
   ],
   "source": [
    "l = [6,8,9,2,4,5,7,4,3,410,3,6]\n",
    "print(\"The lenght of the list is\", len(l)) "
   ]
  },
  {
   "cell_type": "markdown",
   "metadata": {},
   "source": [
    "# Write a Python program to sum all the numeric items in a list?"
   ]
  },
  {
   "cell_type": "code",
   "execution_count": 6,
   "metadata": {},
   "outputs": [
    {
     "data": {
      "text/plain": [
       "55"
      ]
     },
     "execution_count": 6,
     "metadata": {},
     "output_type": "execute_result"
    }
   ],
   "source": [
    "l = [3,9,8,5,7,4,3,7,9]\n",
    "sum(l)"
   ]
  },
  {
   "cell_type": "markdown",
   "metadata": {},
   "source": [
    "# Write a Python program to get the largest number from a numeric list."
   ]
  },
  {
   "cell_type": "code",
   "execution_count": 7,
   "metadata": {},
   "outputs": [
    {
     "data": {
      "text/plain": [
       "74"
      ]
     },
     "execution_count": 7,
     "metadata": {},
     "output_type": "execute_result"
    }
   ],
   "source": [
    "l = [8,56,74,32,44,56,7,9]\n",
    "max(l)"
   ]
  },
  {
   "cell_type": "markdown",
   "metadata": {},
   "source": [
    "# Take a list, say for example this one:\n",
    "a = [1, 1, 2, 3, 5, 8, 13, 21, 34, 55, 89]\n",
    "\n",
    "and write a program that prints out all the elements of the list that are less than 5.¶"
   ]
  },
  {
   "cell_type": "code",
   "execution_count": 9,
   "metadata": {},
   "outputs": [
    {
     "name": "stdout",
     "output_type": "stream",
     "text": [
      "12\n",
      "22\n",
      "36\n",
      "57\n",
      "13\n",
      "27\n",
      "34\n",
      "55\n"
     ]
    }
   ],
   "source": [
    "a = [99, 12, 22, 36, 57, 80, 13, 27, 34, 55, 89]\n",
    "for i in a:\n",
    "    if i < 59:\n",
    "        print(i)"
   ]
  },
  {
   "cell_type": "code",
   "execution_count": null,
   "metadata": {},
   "outputs": [],
   "source": []
  }
 ],
 "metadata": {
  "kernelspec": {
   "display_name": "Python 3",
   "language": "python",
   "name": "python3"
  },
  "language_info": {
   "codemirror_mode": {
    "name": "ipython",
    "version": 3
   },
   "file_extension": ".py",
   "mimetype": "text/x-python",
   "name": "python",
   "nbconvert_exporter": "python",
   "pygments_lexer": "ipython3",
   "version": "3.7.3"
  }
 },
 "nbformat": 4,
 "nbformat_minor": 2
}
